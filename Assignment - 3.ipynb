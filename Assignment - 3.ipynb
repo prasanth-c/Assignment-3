{
 "cells": [
  {
   "cell_type": "markdown",
   "metadata": {},
   "source": [
    "# Task 1"
   ]
  },
  {
   "cell_type": "markdown",
   "metadata": {},
   "source": [
    "1.\n",
    "Write a function to compute 5/0 and use try/except to catch the exceptions.\n"
   ]
  },
  {
   "cell_type": "code",
   "execution_count": 13,
   "metadata": {},
   "outputs": [
    {
     "name": "stdout",
     "output_type": "stream",
     "text": [
      "enter the Divident :5\n",
      "enter the Divider :0\n",
      "Infinite\n"
     ]
    }
   ],
   "source": [
    "def division(x,y):\n",
    "    try:\n",
    "        return(x/y)\n",
    "    except ZeroDivisionError :\n",
    "        return 'Infinite'\n",
    "    \n",
    "i=float(input('enter the Divident :'))\n",
    "j=float(input('enter the Divider :'))\n",
    "x=division(i,j)\n",
    "print(x)"
   ]
  },
  {
   "cell_type": "raw",
   "metadata": {},
   "source": [
    "2.\n",
    "Implement a Python program to generate all sentences where subject is in [\"Americans\",\n",
    "\"Indians\"] and verb is in [\"Play\", \"watch\"] and the object is in [\"Baseball\",\"cricket\"].\n",
    "\n",
    "Hint: Subject,Verb and Object should be declared in the program as shown below.\n",
    "    \n",
    "subjects=[\"Americans \",\"Indians\"]\n",
    "verbs=[\"play\",\"watch\"]\n",
    "objects=[\"Baseball\",\"Cricket\"]\n",
    "\n",
    "Output should come as below:\n",
    "    \n",
    "Americans play Baseball.\n",
    "Americans play Cricket.\n",
    "Americans watch Baseball.\n",
    "Americans watch Cricket.\n",
    "Indians play Baseball.\n",
    "Indians play Cricket.\n",
    "Indians watch Baseball.\n",
    "Indians watch Cricket."
   ]
  },
  {
   "cell_type": "code",
   "execution_count": 14,
   "metadata": {},
   "outputs": [
    {
     "name": "stdout",
     "output_type": "stream",
     "text": [
      "Americans  play Baseball\n",
      "Americans  play Cricket\n",
      "Americans  watch Baseball\n",
      "Americans  watch Cricket\n",
      "Indians play Baseball\n",
      "Indians play Cricket\n",
      "Indians watch Baseball\n",
      "Indians watch Cricket\n"
     ]
    }
   ],
   "source": [
    "subjects=[\"Americans \",\"Indians\"]\n",
    "verbs=[\"play\",\"watch\"]\n",
    "objects=[\"Baseball\",\"Cricket\"]\n",
    "for i in subjects:\n",
    "    for j in verbs :\n",
    "        for k in objects :\n",
    "            print(i,j,k)"
   ]
  },
  {
   "cell_type": "markdown",
   "metadata": {},
   "source": [
    "# Task 2:\n"
   ]
  },
  {
   "cell_type": "code",
   "execution_count": null,
   "metadata": {},
   "outputs": [],
   "source": [
    "1.\n",
    "Write a function so that the columns of the output matrix are powers of the input vector.\n",
    "\n",
    "The order of the powers is determined by the increasing boolean argument. Specifically, when\n",
    "increasing is False, the i-th output column is the input vector raised element-wise to the power\n",
    "of N - i - 1.\n",
    "\n",
    "\n",
    "HINT: Such a matrix with a geometric progression in each row is named for AlexandreTheophile Vandermonde.\n"
   ]
  },
  {
   "cell_type": "code",
   "execution_count": 15,
   "metadata": {},
   "outputs": [
    {
     "name": "stdout",
     "output_type": "stream",
     "text": [
      "[[         1          3          9         27         81        243\n",
      "         729       2187       6561      19683]\n",
      " [         1          5         25        125        625       3125\n",
      "       15625      78125     390625    1953125]\n",
      " [         1          6         36        216       1296       7776\n",
      "       46656     279936    1679616   10077696]\n",
      " [         1          7         49        343       2401      16807\n",
      "      117649     823543    5764801   40353607]\n",
      " [         1          8         64        512       4096      32768\n",
      "      262144    2097152   16777216  134217728]\n",
      " [         1          9         81        729       6561      59049\n",
      "      531441    4782969   43046721  387420489]\n",
      " [         1         10        100       1000      10000     100000\n",
      "     1000000   10000000  100000000 1000000000]\n",
      " [         1         12        144       1728      20736     248832\n",
      "     2985984   35831808  429981696  864813056]\n",
      " [         1         14        196       2744      38416     537824\n",
      "     7529536  105413504 1475789056 -813789696]\n",
      " [         1         16        256       4096      65536    1048576\n",
      "    16777216  268435456          0          0]]\n"
     ]
    }
   ],
   "source": [
    "import numpy as np\n",
    "def vandermonde (arr, N = None,increasing=False,):\n",
    "    if N==None:\n",
    "        N=len(arr)\n",
    "    m=[]\n",
    "    for i in arr:\n",
    "        l=[]\n",
    "        #print(N)\n",
    "        for j in range(N):\n",
    "            l=l+[i**j]\n",
    "        if increasing==False:\n",
    "            l.reverse()\n",
    "        m=m+[l]    \n",
    "    a=np.array(m) \n",
    "    b=a.reshape(len(arr),N)\n",
    "    return b        \n",
    "\n",
    "x=np.array([3,5,6,7,8,9,10,12,14,16])\n",
    "#If N is Not given when call function vandermonde, it return square array\n",
    "y=vandermonde(x,increasing=True)\n",
    "print(y)"
   ]
  }
 ],
 "metadata": {
  "kernelspec": {
   "display_name": "Python 3",
   "language": "python",
   "name": "python3"
  },
  "language_info": {
   "codemirror_mode": {
    "name": "ipython",
    "version": 3
   },
   "file_extension": ".py",
   "mimetype": "text/x-python",
   "name": "python",
   "nbconvert_exporter": "python",
   "pygments_lexer": "ipython3",
   "version": "3.6.5"
  }
 },
 "nbformat": 4,
 "nbformat_minor": 2
}
